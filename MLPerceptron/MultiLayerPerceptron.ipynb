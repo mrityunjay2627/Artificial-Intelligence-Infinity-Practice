{
  "nbformat": 4,
  "nbformat_minor": 0,
  "metadata": {
    "colab": {
      "provenance": []
    },
    "kernelspec": {
      "name": "python3",
      "display_name": "Python 3"
    },
    "language_info": {
      "name": "python"
    }
  },
  "cells": [
    {
      "cell_type": "code",
      "execution_count": 1,
      "metadata": {
        "id": "j_2B2Qb2aK-b"
      },
      "outputs": [],
      "source": [
        "import numpy as np"
      ]
    },
    {
      "cell_type": "code",
      "source": [
        "def unit_step_func(x):\n",
        "    return np.where(x>0,1,0)"
      ],
      "metadata": {
        "id": "qf9FXRiAaROO"
      },
      "execution_count": 2,
      "outputs": []
    },
    {
      "cell_type": "code",
      "source": [
        "class Perceptron:\n",
        "\n",
        "    def __init__(self, lr=0.01, n_iters=1000):\n",
        "        self.lr = lr\n",
        "        self.n_iters = n_iters\n",
        "        self.activation = unit_step_func\n",
        "        self.weights = None\n",
        "        self.bias = None\n",
        "\n",
        "    def fit(self,X,y):\n",
        "        n_samples, n_features = X.shape # X is numpy array\n",
        "\n",
        "        self.weights = np.random.rand(n_features)\n",
        "        self.bias = np.random.rand(1)\n",
        "\n",
        "        y_ = np.where(y>0,1,0)\n",
        "        # print(y_)\n",
        "\n",
        "        for _ in range(self.n_iters):\n",
        "            for index, x_i in enumerate(X):\n",
        "                linear_output = np.dot(x_i, self.weights) + self.bias\n",
        "                y_predicted = self.activation(linear_output)\n",
        "\n",
        "                gradient_update = self.lr * (y_[index]-y_predicted)\n",
        "                self.weights += gradient_update*x_i\n",
        "                self.bias += gradient_update\n",
        "\n",
        "    def predict(self, X):\n",
        "        linear_output = np.dot(X, self.weights) + self.bias\n",
        "        y_predicted = self.activation(linear_output)\n",
        "        return y_predicted\n"
      ],
      "metadata": {
        "id": "UJS9n3wAa4tz"
      },
      "execution_count": 3,
      "outputs": []
    },
    {
      "cell_type": "code",
      "source": [
        "def accuracy(y_true, y_pred):\n",
        "    accuracy = np.sum(y_true == y_pred) / len(y_true)\n",
        "    return accuracy"
      ],
      "metadata": {
        "id": "lMw8iSyTc1l0"
      },
      "execution_count": 4,
      "outputs": []
    },
    {
      "cell_type": "code",
      "source": [
        "from sklearn.model_selection import train_test_split\n",
        "from sklearn import datasets\n",
        "\n",
        "X, y = datasets.make_blobs(\n",
        "    n_samples=150, n_features=2, centers=2, cluster_std=1.05, random_state=2\n",
        ")\n",
        "\n",
        "X_train, X_test, y_train, y_test = train_test_split(\n",
        "    X,y , test_size=0.2, random_state=123\n",
        ")\n",
        "\n",
        "# print(y_train)"
      ],
      "metadata": {
        "id": "MnuLzspFdD9z"
      },
      "execution_count": 5,
      "outputs": []
    },
    {
      "cell_type": "code",
      "source": [
        "p = Perceptron(lr=0.001, n_iters=1001)\n",
        "p.fit(X_train, y_train)\n",
        "predictions = p.predict(X_test)"
      ],
      "metadata": {
        "id": "_MJnU9aAdsP3"
      },
      "execution_count": 6,
      "outputs": []
    },
    {
      "cell_type": "code",
      "source": [
        "print(f'Accuracy: {accuracy(y_test,predictions)}')"
      ],
      "metadata": {
        "colab": {
          "base_uri": "https://localhost:8080/"
        },
        "id": "57OSaxkjd9dv",
        "outputId": "6faddbed-6dde-4b8f-8894-c17d893ec47d"
      },
      "execution_count": 7,
      "outputs": [
        {
          "output_type": "stream",
          "name": "stdout",
          "text": [
            "Accuracy: 1.0\n"
          ]
        }
      ]
    },
    {
      "cell_type": "code",
      "source": [],
      "metadata": {
        "id": "ZBILNUxgeNN8"
      },
      "execution_count": 7,
      "outputs": []
    }
  ]
}